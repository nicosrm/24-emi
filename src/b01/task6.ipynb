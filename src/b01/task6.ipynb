{
 "cells": [
  {
   "cell_type": "markdown",
   "metadata": {},
   "source": [
    "# b)"
   ]
  },
  {
   "cell_type": "code",
   "execution_count": 8,
   "metadata": {},
   "outputs": [
    {
     "name": "stdout",
     "output_type": "stream",
     "text": [
      "[4.8995 8.0415 9.6125 6.7847 4.2711 1.7575 8.3557 5.5279 3.6427 2.0717]\n"
     ]
    }
   ],
   "source": [
    "import numpy as np\n",
    "np.set_printoptions(precision=4, suppress=True)\n",
    "\n",
    "x = np.array([181, 171, 166, 175, 183, 191, 170, 179, 185, 190])\n",
    "y = np.array([3, 7, 10, 8, 5, 2, 9, 6, 1, 4])\n",
    "y_hat = 61.7697 - 0.3142 * x\n",
    "\n",
    "print(y_hat)"
   ]
  },
  {
   "cell_type": "code",
   "execution_count": 9,
   "metadata": {},
   "outputs": [
    {
     "name": "stdout",
     "output_type": "stream",
     "text": [
      "5.5\n"
     ]
    }
   ],
   "source": [
    "y_avg = np.average(y)\n",
    "print(y_avg)"
   ]
  },
  {
   "cell_type": "code",
   "execution_count": 10,
   "metadata": {},
   "outputs": [
    {
     "name": "stdout",
     "output_type": "stream",
     "text": [
      "[ 0.3606  6.4592 16.9127  1.6505  1.5102 14.0063  8.155   0.0008  3.4496\n",
      " 11.7532]\n",
      "64.25803937999997\n"
     ]
    }
   ],
   "source": [
    "sqe = (y_hat - y_avg)**2\n",
    "print(sqe)\n",
    "sqe = np.sum(sqe)\n",
    "print(sqe)"
   ]
  },
  {
   "cell_type": "code",
   "execution_count": 11,
   "metadata": {},
   "outputs": [
    {
     "name": "stdout",
     "output_type": "stream",
     "text": [
      "[ 6.25  2.25 20.25  6.25  0.25 12.25 12.25  0.25 20.25  2.25]\n",
      "82.5\n"
     ]
    }
   ],
   "source": [
    "sqt = (y - y_avg)**2\n",
    "print(sqt)\n",
    "sqt = np.sum(sqt)\n",
    "print(sqt)"
   ]
  },
  {
   "cell_type": "code",
   "execution_count": 12,
   "metadata": {},
   "outputs": [
    {
     "name": "stdout",
     "output_type": "stream",
     "text": [
      "R^2 = 0.7789\n",
      "r = 0.8825\n"
     ]
    }
   ],
   "source": [
    "R2 = sqe / sqt\n",
    "print(f'R^2 = {R2:.4f}')\n",
    "\n",
    "r = np.sqrt(R2)\n",
    "print(f'r = {r:.4f}')"
   ]
  },
  {
   "cell_type": "markdown",
   "metadata": {},
   "source": [
    "# c)"
   ]
  },
  {
   "cell_type": "code",
   "execution_count": 13,
   "metadata": {},
   "outputs": [
    {
     "name": "stdout",
     "output_type": "stream",
     "text": [
      "-0.9030303030303028\n"
     ]
    }
   ],
   "source": [
    "from scipy import stats\n",
    "\n",
    "res = stats.spearmanr(x, y)\n",
    "print(res.statistic)"
   ]
  }
 ],
 "metadata": {
  "kernelspec": {
   "display_name": ".venv",
   "language": "python",
   "name": "python3"
  },
  "language_info": {
   "codemirror_mode": {
    "name": "ipython",
    "version": 3
   },
   "file_extension": ".py",
   "mimetype": "text/x-python",
   "name": "python",
   "nbconvert_exporter": "python",
   "pygments_lexer": "ipython3",
   "version": "3.13.0"
  }
 },
 "nbformat": 4,
 "nbformat_minor": 2
}
