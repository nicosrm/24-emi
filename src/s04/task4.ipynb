{
 "cells": [
  {
   "cell_type": "code",
   "execution_count": 1,
   "metadata": {},
   "outputs": [],
   "source": [
    "import matplotlib\n",
    "import matplotlib.pyplot as plt\n",
    "import numpy as np\n",
    "\n",
    "matplotlib.use('pgf')\n",
    "plt.rcParams['pgf.texsystem'] = 'pdflatex'\n",
    "plt.rcParams['font.family'] = 'serif'\n",
    "plt.rcParams['font.size'] = 14.0\n",
    "plt.rcParams['text.usetex'] = True\n",
    "plt.rcParams['legend.loc'] = 'upper center'\n",
    "plt.rcParams['savefig.bbox'] = 'tight'\n",
    "\n",
    "x = np.array([80, 200, 240, 140, 400, 320])\n",
    "y = np.array([2700, 3250, 3500, 3100, 4000, 3800])"
   ]
  },
  {
   "cell_type": "code",
   "execution_count": 2,
   "metadata": {},
   "outputs": [],
   "source": [
    "plt.scatter(x,y, color='black')\n",
    "plt.xlabel('Kraftfuttermenge $(X)$')\n",
    "plt.ylabel('Milchertrag $(Y)$')\n",
    "plt.savefig('s4-task4-scatter.png')"
   ]
  }
 ],
 "metadata": {
  "kernelspec": {
   "display_name": ".venv",
   "language": "python",
   "name": "python3"
  },
  "language_info": {
   "codemirror_mode": {
    "name": "ipython",
    "version": 3
   },
   "file_extension": ".py",
   "mimetype": "text/x-python",
   "name": "python",
   "nbconvert_exporter": "python",
   "pygments_lexer": "ipython3",
   "version": "3.13.0"
  }
 },
 "nbformat": 4,
 "nbformat_minor": 2
}
